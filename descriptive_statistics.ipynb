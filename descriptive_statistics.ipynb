{
 "cells": [
  {
   "cell_type": "code",
   "execution_count": 22,
   "metadata": {
    "collapsed": true
   },
   "outputs": [],
   "source": [
    "import pandas as pd"
   ]
  },
  {
   "cell_type": "code",
   "execution_count": 23,
   "outputs": [
    {
     "data": {
      "text/plain": "   action_type      results  execution_time\n0            !   120.000000    2.100000e-06\n1            +    50.000000    2.600000e-06\n2            -     1.000000    2.700000e-06\n3            *   625.000000    1.300000e-06\n4            /    31.500000    1.100000e-06\n5            ^  3125.000000    2.300000e-06\n6            %    25.000000    1.100000e-06\n7            /     1.000000    2.000000e-06\n8            +     4.000000    2.000000e-06\n9            /     3.758199    1.000000e-06\n10           +   627.000000    2.200000e-06\n11           -   778.000000    8.000000e-07\n12           -     4.000000    1.200000e-06\n13           *   625.000000    9.000000e-07\n14           /    55.545455    1.000000e-06",
      "text/html": "<div>\n<style scoped>\n    .dataframe tbody tr th:only-of-type {\n        vertical-align: middle;\n    }\n\n    .dataframe tbody tr th {\n        vertical-align: top;\n    }\n\n    .dataframe thead th {\n        text-align: right;\n    }\n</style>\n<table border=\"1\" class=\"dataframe\">\n  <thead>\n    <tr style=\"text-align: right;\">\n      <th></th>\n      <th>action_type</th>\n      <th>results</th>\n      <th>execution_time</th>\n    </tr>\n  </thead>\n  <tbody>\n    <tr>\n      <th>0</th>\n      <td>!</td>\n      <td>120.000000</td>\n      <td>2.100000e-06</td>\n    </tr>\n    <tr>\n      <th>1</th>\n      <td>+</td>\n      <td>50.000000</td>\n      <td>2.600000e-06</td>\n    </tr>\n    <tr>\n      <th>2</th>\n      <td>-</td>\n      <td>1.000000</td>\n      <td>2.700000e-06</td>\n    </tr>\n    <tr>\n      <th>3</th>\n      <td>*</td>\n      <td>625.000000</td>\n      <td>1.300000e-06</td>\n    </tr>\n    <tr>\n      <th>4</th>\n      <td>/</td>\n      <td>31.500000</td>\n      <td>1.100000e-06</td>\n    </tr>\n    <tr>\n      <th>5</th>\n      <td>^</td>\n      <td>3125.000000</td>\n      <td>2.300000e-06</td>\n    </tr>\n    <tr>\n      <th>6</th>\n      <td>%</td>\n      <td>25.000000</td>\n      <td>1.100000e-06</td>\n    </tr>\n    <tr>\n      <th>7</th>\n      <td>/</td>\n      <td>1.000000</td>\n      <td>2.000000e-06</td>\n    </tr>\n    <tr>\n      <th>8</th>\n      <td>+</td>\n      <td>4.000000</td>\n      <td>2.000000e-06</td>\n    </tr>\n    <tr>\n      <th>9</th>\n      <td>/</td>\n      <td>3.758199</td>\n      <td>1.000000e-06</td>\n    </tr>\n    <tr>\n      <th>10</th>\n      <td>+</td>\n      <td>627.000000</td>\n      <td>2.200000e-06</td>\n    </tr>\n    <tr>\n      <th>11</th>\n      <td>-</td>\n      <td>778.000000</td>\n      <td>8.000000e-07</td>\n    </tr>\n    <tr>\n      <th>12</th>\n      <td>-</td>\n      <td>4.000000</td>\n      <td>1.200000e-06</td>\n    </tr>\n    <tr>\n      <th>13</th>\n      <td>*</td>\n      <td>625.000000</td>\n      <td>9.000000e-07</td>\n    </tr>\n    <tr>\n      <th>14</th>\n      <td>/</td>\n      <td>55.545455</td>\n      <td>1.000000e-06</td>\n    </tr>\n  </tbody>\n</table>\n</div>"
     },
     "execution_count": 23,
     "metadata": {},
     "output_type": "execute_result"
    }
   ],
   "source": [
    "df_calculations = pd.read_csv('calculator_statistics.csv')\n",
    "df_calculations"
   ],
   "metadata": {
    "collapsed": false
   }
  },
  {
   "cell_type": "markdown",
   "source": [
    "# Total number of times the calculator performed addition operation"
   ],
   "metadata": {
    "collapsed": false
   }
  },
  {
   "cell_type": "code",
   "execution_count": 24,
   "outputs": [
    {
     "data": {
      "text/plain": "action_type\n+    3\nName: count, dtype: int64"
     },
     "execution_count": 24,
     "metadata": {},
     "output_type": "execute_result"
    }
   ],
   "source": [
    "condition = df_calculations['action_type'] == '+'\n",
    "df_calculations[condition].value_counts('action_type')"
   ],
   "metadata": {
    "collapsed": false
   }
  },
  {
   "cell_type": "markdown",
   "source": [
    "# Total number of times the calculator performed subtraction operation"
   ],
   "metadata": {
    "collapsed": false
   }
  },
  {
   "cell_type": "code",
   "execution_count": 25,
   "outputs": [
    {
     "data": {
      "text/plain": "action_type\n-    3\nName: count, dtype: int64"
     },
     "execution_count": 25,
     "metadata": {},
     "output_type": "execute_result"
    }
   ],
   "source": [
    "condition = df_calculations['action_type'] == '-'\n",
    "df_calculations[condition].value_counts('action_type')"
   ],
   "metadata": {
    "collapsed": false
   }
  },
  {
   "cell_type": "markdown",
   "source": [
    "# Calculating average number of times calculator performed elementary operations"
   ],
   "metadata": {
    "collapsed": false
   }
  },
  {
   "cell_type": "code",
   "execution_count": 26,
   "outputs": [],
   "source": [
    "condition_1 = df_calculations['action_type'] == '+'\n",
    "condition_2 = df_calculations['action_type'] == '-'\n",
    "condition_3 = df_calculations['action_type'] == '*'\n",
    "condition_4 = df_calculations['action_type'] == '/'"
   ],
   "metadata": {
    "collapsed": false
   }
  },
  {
   "cell_type": "code",
   "execution_count": 27,
   "outputs": [],
   "source": [
    "count_of_all_4_conditions = df_calculations[condition_1 | condition_2 | condition_3 | condition_4].value_counts('action_type')"
   ],
   "metadata": {
    "collapsed": false
   }
  },
  {
   "cell_type": "code",
   "execution_count": 28,
   "outputs": [
    {
     "data": {
      "text/plain": "3.0"
     },
     "execution_count": 28,
     "metadata": {},
     "output_type": "execute_result"
    }
   ],
   "source": [
    "count_of_all_4_conditions.mean()"
   ],
   "metadata": {
    "collapsed": false
   }
  },
  {
   "cell_type": "markdown",
   "source": [
    "# Count of all operations"
   ],
   "metadata": {
    "collapsed": false
   }
  },
  {
   "cell_type": "code",
   "execution_count": 30,
   "outputs": [
    {
     "data": {
      "text/plain": "action_type\n/    4\n+    3\n-    3\n*    2\n!    1\n^    1\n%    1\nName: count, dtype: int64"
     },
     "execution_count": 30,
     "metadata": {},
     "output_type": "execute_result"
    }
   ],
   "source": [
    "df_calculations['action_type'].value_counts()"
   ],
   "metadata": {
    "collapsed": false
   }
  },
  {
   "cell_type": "code",
   "execution_count": null,
   "outputs": [],
   "source": [],
   "metadata": {
    "collapsed": false
   }
  },
  {
   "cell_type": "markdown",
   "source": [
    "# Sorting the data frame by time of execution descending"
   ],
   "metadata": {
    "collapsed": false
   }
  },
  {
   "cell_type": "code",
   "execution_count": 31,
   "outputs": [],
   "source": [
    "sorted_by_exec_time = df_calculations.sort_values('execution_time', ascending=False)"
   ],
   "metadata": {
    "collapsed": false
   }
  },
  {
   "cell_type": "code",
   "execution_count": 32,
   "outputs": [
    {
     "data": {
      "text/plain": "   action_type      results  execution_time\n2            -     1.000000    2.700000e-06\n1            +    50.000000    2.600000e-06\n5            ^  3125.000000    2.300000e-06\n10           +   627.000000    2.200000e-06\n0            !   120.000000    2.100000e-06\n7            /     1.000000    2.000000e-06\n8            +     4.000000    2.000000e-06\n3            *   625.000000    1.300000e-06\n12           -     4.000000    1.200000e-06\n4            /    31.500000    1.100000e-06\n6            %    25.000000    1.100000e-06\n9            /     3.758199    1.000000e-06\n14           /    55.545455    1.000000e-06\n13           *   625.000000    9.000000e-07\n11           -   778.000000    8.000000e-07",
      "text/html": "<div>\n<style scoped>\n    .dataframe tbody tr th:only-of-type {\n        vertical-align: middle;\n    }\n\n    .dataframe tbody tr th {\n        vertical-align: top;\n    }\n\n    .dataframe thead th {\n        text-align: right;\n    }\n</style>\n<table border=\"1\" class=\"dataframe\">\n  <thead>\n    <tr style=\"text-align: right;\">\n      <th></th>\n      <th>action_type</th>\n      <th>results</th>\n      <th>execution_time</th>\n    </tr>\n  </thead>\n  <tbody>\n    <tr>\n      <th>2</th>\n      <td>-</td>\n      <td>1.000000</td>\n      <td>2.700000e-06</td>\n    </tr>\n    <tr>\n      <th>1</th>\n      <td>+</td>\n      <td>50.000000</td>\n      <td>2.600000e-06</td>\n    </tr>\n    <tr>\n      <th>5</th>\n      <td>^</td>\n      <td>3125.000000</td>\n      <td>2.300000e-06</td>\n    </tr>\n    <tr>\n      <th>10</th>\n      <td>+</td>\n      <td>627.000000</td>\n      <td>2.200000e-06</td>\n    </tr>\n    <tr>\n      <th>0</th>\n      <td>!</td>\n      <td>120.000000</td>\n      <td>2.100000e-06</td>\n    </tr>\n    <tr>\n      <th>7</th>\n      <td>/</td>\n      <td>1.000000</td>\n      <td>2.000000e-06</td>\n    </tr>\n    <tr>\n      <th>8</th>\n      <td>+</td>\n      <td>4.000000</td>\n      <td>2.000000e-06</td>\n    </tr>\n    <tr>\n      <th>3</th>\n      <td>*</td>\n      <td>625.000000</td>\n      <td>1.300000e-06</td>\n    </tr>\n    <tr>\n      <th>12</th>\n      <td>-</td>\n      <td>4.000000</td>\n      <td>1.200000e-06</td>\n    </tr>\n    <tr>\n      <th>4</th>\n      <td>/</td>\n      <td>31.500000</td>\n      <td>1.100000e-06</td>\n    </tr>\n    <tr>\n      <th>6</th>\n      <td>%</td>\n      <td>25.000000</td>\n      <td>1.100000e-06</td>\n    </tr>\n    <tr>\n      <th>9</th>\n      <td>/</td>\n      <td>3.758199</td>\n      <td>1.000000e-06</td>\n    </tr>\n    <tr>\n      <th>14</th>\n      <td>/</td>\n      <td>55.545455</td>\n      <td>1.000000e-06</td>\n    </tr>\n    <tr>\n      <th>13</th>\n      <td>*</td>\n      <td>625.000000</td>\n      <td>9.000000e-07</td>\n    </tr>\n    <tr>\n      <th>11</th>\n      <td>-</td>\n      <td>778.000000</td>\n      <td>8.000000e-07</td>\n    </tr>\n  </tbody>\n</table>\n</div>"
     },
     "execution_count": 32,
     "metadata": {},
     "output_type": "execute_result"
    }
   ],
   "source": [
    "sorted_by_exec_time"
   ],
   "metadata": {
    "collapsed": false
   }
  },
  {
   "cell_type": "markdown",
   "source": [
    "# Resetting the indexes"
   ],
   "metadata": {
    "collapsed": false
   }
  },
  {
   "cell_type": "code",
   "execution_count": 34,
   "outputs": [
    {
     "data": {
      "text/plain": "   action_type      results  execution_time\n0            !   120.000000    2.100000e-06\n1            +    50.000000    2.600000e-06\n2            -     1.000000    2.700000e-06\n3            *   625.000000    1.300000e-06\n4            /    31.500000    1.100000e-06\n5            ^  3125.000000    2.300000e-06\n6            %    25.000000    1.100000e-06\n7            /     1.000000    2.000000e-06\n8            +     4.000000    2.000000e-06\n9            /     3.758199    1.000000e-06\n10           +   627.000000    2.200000e-06\n11           -   778.000000    8.000000e-07\n12           -     4.000000    1.200000e-06\n13           *   625.000000    9.000000e-07\n14           /    55.545455    1.000000e-06",
      "text/html": "<div>\n<style scoped>\n    .dataframe tbody tr th:only-of-type {\n        vertical-align: middle;\n    }\n\n    .dataframe tbody tr th {\n        vertical-align: top;\n    }\n\n    .dataframe thead th {\n        text-align: right;\n    }\n</style>\n<table border=\"1\" class=\"dataframe\">\n  <thead>\n    <tr style=\"text-align: right;\">\n      <th></th>\n      <th>action_type</th>\n      <th>results</th>\n      <th>execution_time</th>\n    </tr>\n  </thead>\n  <tbody>\n    <tr>\n      <th>0</th>\n      <td>!</td>\n      <td>120.000000</td>\n      <td>2.100000e-06</td>\n    </tr>\n    <tr>\n      <th>1</th>\n      <td>+</td>\n      <td>50.000000</td>\n      <td>2.600000e-06</td>\n    </tr>\n    <tr>\n      <th>2</th>\n      <td>-</td>\n      <td>1.000000</td>\n      <td>2.700000e-06</td>\n    </tr>\n    <tr>\n      <th>3</th>\n      <td>*</td>\n      <td>625.000000</td>\n      <td>1.300000e-06</td>\n    </tr>\n    <tr>\n      <th>4</th>\n      <td>/</td>\n      <td>31.500000</td>\n      <td>1.100000e-06</td>\n    </tr>\n    <tr>\n      <th>5</th>\n      <td>^</td>\n      <td>3125.000000</td>\n      <td>2.300000e-06</td>\n    </tr>\n    <tr>\n      <th>6</th>\n      <td>%</td>\n      <td>25.000000</td>\n      <td>1.100000e-06</td>\n    </tr>\n    <tr>\n      <th>7</th>\n      <td>/</td>\n      <td>1.000000</td>\n      <td>2.000000e-06</td>\n    </tr>\n    <tr>\n      <th>8</th>\n      <td>+</td>\n      <td>4.000000</td>\n      <td>2.000000e-06</td>\n    </tr>\n    <tr>\n      <th>9</th>\n      <td>/</td>\n      <td>3.758199</td>\n      <td>1.000000e-06</td>\n    </tr>\n    <tr>\n      <th>10</th>\n      <td>+</td>\n      <td>627.000000</td>\n      <td>2.200000e-06</td>\n    </tr>\n    <tr>\n      <th>11</th>\n      <td>-</td>\n      <td>778.000000</td>\n      <td>8.000000e-07</td>\n    </tr>\n    <tr>\n      <th>12</th>\n      <td>-</td>\n      <td>4.000000</td>\n      <td>1.200000e-06</td>\n    </tr>\n    <tr>\n      <th>13</th>\n      <td>*</td>\n      <td>625.000000</td>\n      <td>9.000000e-07</td>\n    </tr>\n    <tr>\n      <th>14</th>\n      <td>/</td>\n      <td>55.545455</td>\n      <td>1.000000e-06</td>\n    </tr>\n  </tbody>\n</table>\n</div>"
     },
     "execution_count": 34,
     "metadata": {},
     "output_type": "execute_result"
    }
   ],
   "source": [
    "df_calculations.reset_index(drop=True)"
   ],
   "metadata": {
    "collapsed": false
   }
  },
  {
   "cell_type": "markdown",
   "source": [
    "# Rearranging the columns"
   ],
   "metadata": {
    "collapsed": false
   }
  },
  {
   "cell_type": "code",
   "execution_count": 38,
   "outputs": [
    {
     "data": {
      "text/plain": "    execution_time action_type      results\n2     2.700000e-06           -     1.000000\n1     2.600000e-06           +    50.000000\n5     2.300000e-06           ^  3125.000000\n10    2.200000e-06           +   627.000000\n0     2.100000e-06           !   120.000000\n7     2.000000e-06           /     1.000000\n8     2.000000e-06           +     4.000000\n3     1.300000e-06           *   625.000000\n12    1.200000e-06           -     4.000000\n4     1.100000e-06           /    31.500000\n6     1.100000e-06           %    25.000000\n9     1.000000e-06           /     3.758199\n14    1.000000e-06           /    55.545455\n13    9.000000e-07           *   625.000000\n11    8.000000e-07           -   778.000000",
      "text/html": "<div>\n<style scoped>\n    .dataframe tbody tr th:only-of-type {\n        vertical-align: middle;\n    }\n\n    .dataframe tbody tr th {\n        vertical-align: top;\n    }\n\n    .dataframe thead th {\n        text-align: right;\n    }\n</style>\n<table border=\"1\" class=\"dataframe\">\n  <thead>\n    <tr style=\"text-align: right;\">\n      <th></th>\n      <th>execution_time</th>\n      <th>action_type</th>\n      <th>results</th>\n    </tr>\n  </thead>\n  <tbody>\n    <tr>\n      <th>2</th>\n      <td>2.700000e-06</td>\n      <td>-</td>\n      <td>1.000000</td>\n    </tr>\n    <tr>\n      <th>1</th>\n      <td>2.600000e-06</td>\n      <td>+</td>\n      <td>50.000000</td>\n    </tr>\n    <tr>\n      <th>5</th>\n      <td>2.300000e-06</td>\n      <td>^</td>\n      <td>3125.000000</td>\n    </tr>\n    <tr>\n      <th>10</th>\n      <td>2.200000e-06</td>\n      <td>+</td>\n      <td>627.000000</td>\n    </tr>\n    <tr>\n      <th>0</th>\n      <td>2.100000e-06</td>\n      <td>!</td>\n      <td>120.000000</td>\n    </tr>\n    <tr>\n      <th>7</th>\n      <td>2.000000e-06</td>\n      <td>/</td>\n      <td>1.000000</td>\n    </tr>\n    <tr>\n      <th>8</th>\n      <td>2.000000e-06</td>\n      <td>+</td>\n      <td>4.000000</td>\n    </tr>\n    <tr>\n      <th>3</th>\n      <td>1.300000e-06</td>\n      <td>*</td>\n      <td>625.000000</td>\n    </tr>\n    <tr>\n      <th>12</th>\n      <td>1.200000e-06</td>\n      <td>-</td>\n      <td>4.000000</td>\n    </tr>\n    <tr>\n      <th>4</th>\n      <td>1.100000e-06</td>\n      <td>/</td>\n      <td>31.500000</td>\n    </tr>\n    <tr>\n      <th>6</th>\n      <td>1.100000e-06</td>\n      <td>%</td>\n      <td>25.000000</td>\n    </tr>\n    <tr>\n      <th>9</th>\n      <td>1.000000e-06</td>\n      <td>/</td>\n      <td>3.758199</td>\n    </tr>\n    <tr>\n      <th>14</th>\n      <td>1.000000e-06</td>\n      <td>/</td>\n      <td>55.545455</td>\n    </tr>\n    <tr>\n      <th>13</th>\n      <td>9.000000e-07</td>\n      <td>*</td>\n      <td>625.000000</td>\n    </tr>\n    <tr>\n      <th>11</th>\n      <td>8.000000e-07</td>\n      <td>-</td>\n      <td>778.000000</td>\n    </tr>\n  </tbody>\n</table>\n</div>"
     },
     "execution_count": 38,
     "metadata": {},
     "output_type": "execute_result"
    }
   ],
   "source": [
    "sorted_by_exec_time = sorted_by_exec_time[['execution_time','action_type', 'results']]\n",
    "sorted_by_exec_time"
   ],
   "metadata": {
    "collapsed": false
   }
  },
  {
   "cell_type": "code",
   "execution_count": null,
   "outputs": [],
   "source": [],
   "metadata": {
    "collapsed": false
   }
  }
 ],
 "metadata": {
  "kernelspec": {
   "display_name": "Python 3",
   "language": "python",
   "name": "python3"
  },
  "language_info": {
   "codemirror_mode": {
    "name": "ipython",
    "version": 2
   },
   "file_extension": ".py",
   "mimetype": "text/x-python",
   "name": "python",
   "nbconvert_exporter": "python",
   "pygments_lexer": "ipython2",
   "version": "2.7.6"
  }
 },
 "nbformat": 4,
 "nbformat_minor": 0
}
